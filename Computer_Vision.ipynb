{
  "nbformat": 4,
  "nbformat_minor": 0,
  "metadata": {
    "colab": {
      "name": "Computer Vision",
      "provenance": [],
      "authorship_tag": "ABX9TyNCQpBVTtHRk01kRzpw+wpA",
      "include_colab_link": true
    },
    "kernelspec": {
      "name": "python3",
      "display_name": "Python 3"
    },
    "language_info": {
      "name": "python"
    }
  },
  "cells": [
    {
      "cell_type": "markdown",
      "metadata": {
        "id": "view-in-github",
        "colab_type": "text"
      },
      "source": [
        "<a href=\"https://colab.research.google.com/github/Abigail1410/Trabajo-final/blob/master/Computer_Vision.ipynb\" target=\"_parent\"><img src=\"https://colab.research.google.com/assets/colab-badge.svg\" alt=\"Open In Colab\"/></a>"
      ]
    },
    {
      "cell_type": "code",
      "metadata": {
        "colab": {
          "base_uri": "https://localhost:8080/",
          "height": 128
        },
        "id": "k9WPRMiYL5iX",
        "outputId": "78faeabc-551d-437e-b6f7-e95b84b3bb93"
      },
      "source": [
        "pip install tensorflow\n",
        "pip install pillow\n",
        "pip install numpy\n",
        "pip install opencv-python"
      ],
      "execution_count": 1,
      "outputs": [
        {
          "output_type": "error",
          "ename": "SyntaxError",
          "evalue": "ignored",
          "traceback": [
            "\u001b[0;36m  File \u001b[0;32m\"<ipython-input-1-24c14a6d36b8>\"\u001b[0;36m, line \u001b[0;32m1\u001b[0m\n\u001b[0;31m    pip install tensorflow\u001b[0m\n\u001b[0m              ^\u001b[0m\n\u001b[0;31mSyntaxError\u001b[0m\u001b[0;31m:\u001b[0m invalid syntax\n"
          ]
        }
      ]
    },
    {
      "cell_type": "code",
      "metadata": {
        "id": "er8cpW7cMGFZ"
      },
      "source": [
        "import tensorflow as tf\n",
        "import os\n",
        "\n",
        "graph_def = tf.compat.v1.GraphDef()\n",
        "labels = []\n",
        "\n",
        "# These are set to the default names from exported models, update as needed.\n",
        "filename = \"model.pb\"\n",
        "labels_filename = \"labels.txt\"\n",
        "\n",
        "# Import the TF graph\n",
        "with tf.io.gfile.GFile(filename, 'rb') as f:\n",
        "    graph_def.ParseFromString(f.read())\n",
        "    tf.import_graph_def(graph_def, name='')\n",
        "\n",
        "# Create a list of labels.\n",
        "with open(labels_filename, 'rt') as lf:\n",
        "    for l in lf:\n",
        "        labels.append(l.strip())"
      ],
      "execution_count": null,
      "outputs": []
    },
    {
      "cell_type": "code",
      "metadata": {
        "id": "nh96L1wKMKut"
      },
      "source": [
        "from PIL import Image\n",
        "import numpy as np\n",
        "import cv2\n",
        "\n",
        "# Load from a file\n",
        "imageFile = \"<path to your image file>\"\n",
        "image = Image.open(imageFile)\n",
        "\n",
        "# Update orientation based on EXIF tags, if the file has orientation info.\n",
        "image = update_orientation(image)\n",
        "\n",
        "# Convert to OpenCV format\n",
        "image = convert_to_opencv(image)"
      ],
      "execution_count": null,
      "outputs": []
    },
    {
      "cell_type": "code",
      "metadata": {
        "id": "rPzEYDPyMRv-"
      },
      "source": [
        "# If the image has either w or h greater than 1600 we resize it down respecting\n",
        "# aspect ratio such that the largest dimension is 1600\n",
        "image = resize_down_to_1600_max_dim(image)"
      ],
      "execution_count": null,
      "outputs": []
    },
    {
      "cell_type": "code",
      "metadata": {
        "id": "kr5vkOPkMbHx"
      },
      "source": [
        "# We next get the largest center square\n",
        "h, w = image.shape[:2]\n",
        "min_dim = min(w,h)\n",
        "max_square_image = crop_center(image, min_dim, min_dim)"
      ],
      "execution_count": null,
      "outputs": []
    },
    {
      "cell_type": "code",
      "metadata": {
        "id": "pNAxKZcAMdZ2"
      },
      "source": [
        "# Resize that square down to 256x256\n",
        "augmented_image = resize_to_256_square(max_square_image)"
      ],
      "execution_count": null,
      "outputs": []
    },
    {
      "cell_type": "code",
      "metadata": {
        "id": "b6gzijW4Mw7A"
      },
      "source": [
        "# Get the input size of the model\n",
        "with tf.compat.v1.Session() as sess:\n",
        "    input_tensor_shape = sess.graph.get_tensor_by_name('Placeholder:0').shape.as_list()\n",
        "network_input_size = input_tensor_shape[1]\n",
        "\n",
        "# Crop the center for the specified network_input_Size\n",
        "augmented_image = crop_center(augmented_image, network_input_size, network_input_size)"
      ],
      "execution_count": null,
      "outputs": []
    },
    {
      "cell_type": "code",
      "metadata": {
        "id": "ndsc3plrM00_"
      },
      "source": [
        "def convert_to_opencv(image):\n",
        "    # RGB -> BGR conversion is performed as well.\n",
        "    image = image.convert('RGB')\n",
        "    r,g,b = np.array(image).T\n",
        "    opencv_image = np.array([b,g,r]).transpose()\n",
        "    return opencv_image\n",
        "\n",
        "def crop_center(img,cropx,cropy):\n",
        "    h, w = img.shape[:2]\n",
        "    startx = w//2-(cropx//2)\n",
        "    starty = h//2-(cropy//2)\n",
        "    return img[starty:starty+cropy, startx:startx+cropx]\n",
        "\n",
        "def resize_down_to_1600_max_dim(image):\n",
        "    h, w = image.shape[:2]\n",
        "    if (h < 1600 and w < 1600):\n",
        "        return image\n",
        "\n",
        "    new_size = (1600 * w // h, 1600) if (h > w) else (1600, 1600 * h // w)\n",
        "    return cv2.resize(image, new_size, interpolation = cv2.INTER_LINEAR)\n",
        "\n",
        "def resize_to_256_square(image):\n",
        "    h, w = image.shape[:2]\n",
        "    return cv2.resize(image, (256, 256), interpolation = cv2.INTER_LINEAR)\n",
        "\n",
        "def update_orientation(image):\n",
        "    exif_orientation_tag = 0x0112\n",
        "    if hasattr(image, '_getexif'):\n",
        "        exif = image._getexif()\n",
        "        if (exif != None and exif_orientation_tag in exif):\n",
        "            orientation = exif.get(exif_orientation_tag, 1)\n",
        "            # orientation is 1 based, shift to zero based and flip/transpose based on 0-based values\n",
        "            orientation -= 1\n",
        "            if orientation >= 4:\n",
        "                image = image.transpose(Image.TRANSPOSE)\n",
        "            if orientation == 2 or orientation == 3 or orientation == 6 or orientation == 7:\n",
        "                image = image.transpose(Image.FLIP_TOP_BOTTOM)\n",
        "            if orientation == 1 or orientation == 2 or orientation == 5 or orientation == 6:\n",
        "                image = image.transpose(Image.FLIP_LEFT_RIGHT)\n",
        "    return image"
      ],
      "execution_count": null,
      "outputs": []
    },
    {
      "cell_type": "code",
      "metadata": {
        "id": "PiXGUA63NFF_"
      },
      "source": [
        "\n",
        "# These names are part of the model and cannot be changed.\n",
        "output_layer = 'loss:0'\n",
        "input_node = 'Placeholder:0'\n",
        "\n",
        "with tf.compat.v1.Session() as sess:\n",
        "    try:\n",
        "        prob_tensor = sess.graph.get_tensor_by_name(output_layer)\n",
        "        predictions = sess.run(prob_tensor, {input_node: [augmented_image] })\n",
        "    except KeyError:\n",
        "        print (\"Couldn't find classification output layer: \" + output_layer + \".\")\n",
        "        print (\"Verify this a model exported from an Object Detection project.\")\n",
        "        exit(-1)"
      ],
      "execution_count": null,
      "outputs": []
    },
    {
      "cell_type": "code",
      "metadata": {
        "id": "H8RD9od1NIuW"
      },
      "source": [
        " # Print the highest probability label\n",
        "    highest_probability_index = np.argmax(predictions)\n",
        "    print('Classified as: ' + labels[highest_probability_index])\n",
        "    print()\n",
        "\n",
        "    # Or you can print out all of the results mapping labels to probabilities.\n",
        "    label_index = 0\n",
        "    for p in predictions:\n",
        "        truncated_probablity = np.float64(np.round(p,8))\n",
        "        print (labels[label_index], truncated_probablity)\n",
        "        label_index += 1"
      ],
      "execution_count": null,
      "outputs": []
    },
    {
      "cell_type": "code",
      "metadata": {
        "id": "SjqRYoN5NgGf"
      },
      "source": [
        ""
      ],
      "execution_count": null,
      "outputs": []
    }
  ]
}