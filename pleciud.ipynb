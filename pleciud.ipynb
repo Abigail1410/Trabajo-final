{
  "nbformat": 4,
  "nbformat_minor": 0,
  "metadata": {
    "colab": {
      "name": "pleciud.ipynb",
      "provenance": [],
      "collapsed_sections": [],
      "include_colab_link": true
    },
    "kernelspec": {
      "name": "python3",
      "display_name": "Python 3"
    }
  },
  "cells": [
    {
      "cell_type": "markdown",
      "metadata": {
        "id": "view-in-github",
        "colab_type": "text"
      },
      "source": [
        "<a href=\"https://colab.research.google.com/github/Abigail1410/Trabajo-final/blob/master/pleciud.ipynb\" target=\"_parent\"><img src=\"https://colab.research.google.com/assets/colab-badge.svg\" alt=\"Open In Colab\"/></a>"
      ]
    },
    {
      "cell_type": "code",
      "metadata": {
        "id": "HJFu91bgHycU",
        "colab_type": "code",
        "outputId": "bb5e990e-99b4-4b3d-ecbd-3e226e8b7e3f",
        "colab": {
          "base_uri": "https://localhost:8080/",
          "height": 119
        }
      },
      "source": [
        "!pip install pulp"
      ],
      "execution_count": 0,
      "outputs": [
        {
          "output_type": "stream",
          "text": [
            "Collecting pulp\n",
            "\u001b[?25l  Downloading https://files.pythonhosted.org/packages/fb/34/ff5915ff6bae91cfb7c4cc22c3c369a6aea0b2127045dd5f308a91c260ac/PuLP-2.0-py3-none-any.whl (39.2MB)\n",
            "\u001b[K     |████████████████████████████████| 39.2MB 60kB/s \n",
            "\u001b[?25hRequirement already satisfied: pyparsing>=2.0.1 in /usr/local/lib/python3.6/dist-packages (from pulp) (2.4.5)\n",
            "Installing collected packages: pulp\n",
            "Successfully installed pulp-2.0\n"
          ],
          "name": "stdout"
        }
      ]
    },
    {
      "cell_type": "code",
      "metadata": {
        "id": "uDhwy3MAtArR",
        "colab_type": "code",
        "outputId": "d78f7a31-fab3-474d-dfa8-08088dedec4b",
        "colab": {
          "base_uri": "https://localhost:8080/",
          "height": 156
        }
      },
      "source": [
        "import numpy as np\n",
        "import pulp as pl\n",
        "ciudades=['LP','CB','SC','OR','SU','PT','TA']\n",
        "D=np.zeros((7,7))\n",
        "tiempos=[6.5,15,3.33,10.5,8,11.75,7.25,3.1,6.1,7,14.5,\n",
        "      11,9.75,12.15,18.3,6.83,4.15,8.8,2.37,7.5,5.22]\n",
        "c=0\n",
        "for i in np.arange(len(ciudades)):\n",
        "    for j in np.arange(i+1,len(ciudades)):\n",
        "        D[j,i]=D[i,j]=tiempos[c]\n",
        "        c=c+1\n",
        "varz=[]\n",
        "for i in np.arange(len(ciudades)):\n",
        "    varz.append(pl.LpVariable(ciudades[i],0,1,pl.LpInteger))\n",
        "problema=pl.LpProblem(\"Ciudad\",pl.LpMinimize)\n",
        "problema+=sum(varz)\n",
        "T=(D<D.mean())*1\n",
        "R=T*varz\n",
        "for i in np.arange(len(ciudades)):\n",
        "    problema+=sum(R[i,:])>=1\n",
        "estado=problema.solve()\n",
        "print(pl.LpStatus[estado])\n",
        "for i in np.arange(len(ciudades)):\n",
        "    print(varz[i].name,\" \",pl.value(varz[i]))"
      ],
      "execution_count": 0,
      "outputs": [
        {
          "output_type": "stream",
          "text": [
            "Optimal\n",
            "LP   0.0\n",
            "CB   1.0\n",
            "SC   0.0\n",
            "OR   0.0\n",
            "SU   0.0\n",
            "PT   0.0\n",
            "TA   1.0\n"
          ],
          "name": "stdout"
        }
      ]
    }
  ]
}